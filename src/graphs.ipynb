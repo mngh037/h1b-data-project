{
 "cells": [
  {
   "cell_type": "code",
   "execution_count": 1,
   "metadata": {},
   "outputs": [],
   "source": [
    "import polars as pl\n",
    "import altair as alt\n",
    "from vega_datasets import data\n",
    "import pandas as pd"
   ]
  },
  {
   "cell_type": "code",
   "execution_count": null,
   "metadata": {},
   "outputs": [],
   "source": [
    "alt.themes.enable(\"opaque\")\n",
    "alt.data_transformers.enable(\"vegafusion\")"
   ]
  },
  {
   "cell_type": "markdown",
   "metadata": {},
   "source": [
    "How many H1B petitioners are there for each year? What sectors are they in?"
   ]
  },
  {
   "cell_type": "code",
   "execution_count": null,
   "metadata": {},
   "outputs": [],
   "source": [
    "# Load data files in\n",
    "uscis_petitioners_2021_2024 = pl.read_excel(\"../data/uscis_h1b_approvals_2021_2024.xlsx\")\n",
    "uscis_petitioners_2017_2020 = pl.read_excel(\"../data/uscis_h1b_approvals_2017_2020.xlsx\")\n",
    "uscis_petitioners = uscis_petitioners_2017_2020.vstack(uscis_petitioners_2021_2024)\n",
    "uscis_petitioners"
   ]
  },
  {
   "cell_type": "code",
   "execution_count": 4,
   "metadata": {},
   "outputs": [],
   "source": [
    "# Clean data\n",
    "uscis_petitioners = uscis_petitioners.rename({\"Line by line\": \"id\",\n",
    "                                              \"Fiscal Year   \": \"fiscal_year\",\n",
    "                                              \"Employer (Petitioner) Name\": \"name\",\n",
    "                                              \"Tax ID\": \"tax_id\",\n",
    "                                              \"Industry (NAICS) Code\": \"naics_code\",\n",
    "                                              \"Petitioner City\": \"city\",\n",
    "                                              \"Petitioner State\": \"state\",\n",
    "                                              \"Petitioner Zip Code\": \"zip\",\n",
    "                                              \"Initial Approval\": \"initial_approval\",\n",
    "                                              \"Initial Denial\": \"initial_denial\",\n",
    "                                              \"Continuing Approval\": \"continuing_approval\",\n",
    "                                              \"Continuing Denial\": \"continuing_denial\"})"
   ]
  },
  {
   "cell_type": "code",
   "execution_count": null,
   "metadata": {},
   "outputs": [],
   "source": [
    "# Check to see if USCIS data contains duplicate records of employers\n",
    "uscis_petitioners.n_unique(subset=[\"fiscal_year\", \"name\"]) # there are 384364 counts of (employers, year)\n",
    "\n",
    "petitioners_count = uscis_petitioners.group_by(\"fiscal_year\", \"name\").len(name=\"employers_count\")\n",
    "petitioners_count # there are indeed duplicates"
   ]
  },
  {
   "cell_type": "code",
   "execution_count": null,
   "metadata": {},
   "outputs": [],
   "source": [
    "# Employers by state and NAICS code\n",
    "unique_employers = uscis_petitioners.group_by(\"fiscal_year\", \"name\").len().filter(pl.col(\"fiscal_year\") == \"2024\")\n",
    "unique_employers = unique_employers.join(uscis_petitioners.select(\"fiscal_year\", \"name\", \"state\", \"naics_code\"),\n",
    "                                         how=\"left\", on=[\"fiscal_year\", \"name\"])\n",
    "unique_employers.group_by(\"state\", \"naics_code\").len().sort(\"len\", descending=True)"
   ]
  },
  {
   "cell_type": "code",
   "execution_count": 7,
   "metadata": {},
   "outputs": [],
   "source": [
    "# Construct a new df with each row representing unique employers only\n",
    "petitioners_df = uscis_petitioners.unique(subset=[\"fiscal_year\", \"name\"])\n",
    "petitioners_df = petitioners_df.with_columns(\n",
    "    pl.when(pl.col(\"naics_code\").str.contains(\"54\"))\n",
    "    .then(pl.lit(\"Science & Tech\"))\n",
    "    .when(pl.col(\"naics_code\").str.contains(\"31-33\"))\n",
    "    .then(pl.lit(\"Manufacturing\"))\n",
    "    .when(pl.col(\"naics_code\").str.contains(\"62\"))\n",
    "    .then(pl.lit(\"Healthcare\"))\n",
    "    .when(pl.col(\"naics_code\").str.contains(\"52\"))\n",
    "    .then(pl.lit(\"Finance & Insurance\"))\n",
    "    .when(pl.col(\"naics_code\").str.contains(\"51\"))\n",
    "    .then(pl.lit(\"Information\"))\n",
    "    .when(pl.col(\"naics_code\").str.contains(\"61\"))\n",
    "    .then(pl.lit(\"Education\"))\n",
    "    .when(pl.col(\"naics_code\").str.contains(\"42\"))\n",
    "    .then(pl.lit(\"Wholesale Trade\"))\n",
    "    .otherwise(pl.lit(\"Other\"))\n",
    "    .alias(\"sector\")\n",
    ")"
   ]
  },
  {
   "cell_type": "code",
   "execution_count": null,
   "metadata": {},
   "outputs": [],
   "source": [
    "# Because there are many sectors, we extract the first 7 popular so as not to clutter the chart\n",
    "top_naics_by_petitioners = (petitioners_df.group_by([\"fiscal_year\", \"naics_code\"])\n",
    "                            .len().filter(pl.col(\"fiscal_year\") == \"2024\")\n",
    "                            .sort(\"len\", descending=True))\n",
    "top_naics_by_petitioners.head(10)"
   ]
  },
  {
   "cell_type": "code",
   "execution_count": null,
   "metadata": {},
   "outputs": [],
   "source": [
    "# Create chart of employers trend by sector 2021-2024\n",
    "alt.Chart(petitioners_df).mark_area().encode(\n",
    "    alt.X(\"fiscal_year\", type=\"nominal\"),\n",
    "    alt.Y(aggregate=\"count\", type=\"quantitative\", title=\"employers_count\"),\n",
    "    alt.Color(\"sector\", scale=alt.Scale(scheme='tableau10'), legend=alt.Legend(title=\"Sector\", labelLimit = 300))\n",
    ").properties(\n",
    "    title=alt.Title(\"Employers filing for H1B petitions (2017-2024)\", fontSize=12),\n",
    "    width=150,\n",
    "    height=300\n",
    ").configure(background='#F6F5F4')\n"
   ]
  },
  {
   "cell_type": "markdown",
   "metadata": {},
   "source": [
    "What about the number of H1B filings?"
   ]
  },
  {
   "cell_type": "code",
   "execution_count": null,
   "metadata": {},
   "outputs": [],
   "source": [
    "# Create chart for H1B filings trend 2021-2024\n",
    "uscis_filings = pl.read_excel(\"../data/uscis_h1b_eligible_registration_2017_2020.xlsx\")\n",
    "uscis_filings = uscis_filings.with_columns(pl.lit(int(85000)).alias(\"cap\"))\n",
    "uscis_filings = uscis_filings.with_columns((pl.col(\"count\") - pl.col(\"cap\")).alias(\"not_selected\"))\n",
    "uscis_filings = uscis_filings.rename({\"cap\": \"Selected\", \"not_selected\": \"Not Selected\"})\n",
    "uscis_filings_long = uscis_filings.unpivot(index=\"fiscal_year\", on=[\"Selected\", \"Not Selected\"])\n",
    "\n",
    "alt.Chart(uscis_filings_long).mark_bar(color=\"#384d26\").encode(\n",
    "    alt.X(\"fiscal_year\", type=\"nominal\", title=\"Fiscal Year\"),\n",
    "    alt.Y(\"value\", type=\"quantitative\", title=\"Total cap-subjected filings\"),\n",
    "    alt.Color(\"variable:N\", sort=\"ascending\", title=\"Filings status\",\n",
    "              scale=alt.Scale(domain=[\"Selected\", \"Not Selected\"],\n",
    "                              range=[\"#32565D\", \"#698996\"])),\n",
    "    alt.Order(\"value\")\n",
    ").properties(\n",
    "    title=alt.Title(\"H1B filings received by USCIS (2017-2024)\", fontSize=12),\n",
    "    width=150,\n",
    "    height=300\n",
    ").configure(background='#F6F5F4')"
   ]
  },
  {
   "cell_type": "markdown",
   "metadata": {},
   "source": [
    "Now diving in data at individual level. We examine H1B lottery data (filings that are subjected to cap) 2023 as 2024 might introduce distortion due to large number of multiple filings and fraud claims."
   ]
  },
  {
   "cell_type": "code",
   "execution_count": 11,
   "metadata": {},
   "outputs": [],
   "source": [
    "# Load and clean country code\n",
    "country_code = pl.read_csv(\"../data/wikipedia-iso-country-codes.csv\")\n",
    "country_code = country_code.rename({\"English short name lower case\": \"country_name\", \"Alpha-3 code\": \"a3_code\"})"
   ]
  },
  {
   "cell_type": "code",
   "execution_count": 12,
   "metadata": {},
   "outputs": [],
   "source": [
    "def process_bloomberg_data(filepath):\n",
    "    df = pl.read_csv(filepath, ignore_errors=True)\n",
    "    df = df.select([\"country_of_nationality\", \"ben_year_of_birth\", \"gender\", \"employer_name\",\n",
    "                      \"FEIN\", \"state\", \"zip\", \"lottery_year\", \"status_type\", \"rec_date\", \"FIRST_DECISION\", \"ben_multi_reg_ind\",\n",
    "                      \"first_decision_date\", \"BEN_CURRENT_CLASS\", \"REQUESTED_CLASS\", \"BASIS_FOR_CLASSIFICATION\", \"JOB_TITLE\",\n",
    "                      \"WORKSITE_STATE\", \"WORKSITE_ZIP\", \"BEN_PFIELD_OF_STUDY\", \"BEN_COMP_PAID\", \"WAGE_AMT\", \"WAGE_UNIT\", \"S3Q1\",\n",
    "                      \"DOT_CODE\", \"NAICS_CODE\"]).rename({\"country_of_nationality\": \"nationality\",\n",
    "                                                         \"ben_year_of_birth\": \"birthyear\",\n",
    "                                                         \"state\": \"employer_state\",\n",
    "                                                         \"zip\": \"employer_zip\",\n",
    "                                                         \"FEIN\": \"fein\",\n",
    "                                                         \"NAICS_CODE\": \"naics_code\",\n",
    "                                                         \"lottery_year\": \"fiscal_year\",\n",
    "                                                         \"FIRST_DECISION\": \"first_decision\",\n",
    "                                                         \"BEN_CURRENT_CLASS\": \"current_class\",\n",
    "                                                         \"REQUESTED_CLASS\": \"requested_class\",\n",
    "                                                         \"BASIS_FOR_CLASSIFICATION\": \"filing_type\",\n",
    "                                                         \"JOB_TITLE\": \"job_title\",\n",
    "                                                         \"WORKSITE_STATE\": \"worksite_state\",\n",
    "                                                         \"WORKSITE_ZIP\": \"worksite_zip\",\n",
    "                                                         \"BEN_PFIELD_OF_STUDY\": \"field_of_study\",\n",
    "                                                         \"DOT_CODE\": \"dot_code\",\n",
    "                                                         \"BEN_COMP_PAID\": \"base_income\",\n",
    "                                                         \"WAGE_AMT\": \"wage_amount\",\n",
    "                                                         \"WAGE_UNIT\": \"wage_unit\",\n",
    "                                                         \"S3Q1\": \"education_level\"})\n",
    "\n",
    "    # Incorrect state in data file. Modify TS to TN\n",
    "    df = df.with_columns(pl.when(pl.col(\"employer_state\") == \"TS\")\n",
    "                             .then(pl.lit(\"TN\")).otherwise(pl.col(\"employer_state\"))\n",
    "                             .alias(\"employer_state_corrected\")).drop(\"employer_state\")\n",
    "    df = df.with_columns((pl.col(\"employer_zip\").str.slice(0, 5)).alias(\"corrected_employer_zip\")).drop(\"employer_zip\")\n",
    "\n",
    "    # Pad zip with 0\n",
    "    df = df.with_columns(pl.col(\"worksite_zip\").cast(pl.Utf8).str.zfill(5))\n",
    "\n",
    "    # Update zipcodes with over 30 filings that are not covered in zipcodes crosswalk database\n",
    "    df = df.with_columns(pl.when(\n",
    "        pl.col(\"worksite_zip\") == \"94085\").\n",
    "        then(pl.lit(\"94086\")).\n",
    "        when(pl.col(\"worksite_zip\") == \"27617\").\n",
    "        then(pl.lit(\"27619\")).\n",
    "        when(pl.col(\"worksite_zip\") == \"75254\").\n",
    "        then(pl.lit(\"75253\")).\n",
    "        when(pl.col(\"worksite_zip\") == \"75033\").\n",
    "        then(pl.lit(\"75034\")).\n",
    "        when(pl.col(\"worksite_zip\") == \"94158\").\n",
    "        then(pl.lit(\"94159\")).\n",
    "        when(pl.col(\"worksite_zip\") == \"75071\").\n",
    "        then(pl.lit(\"75070\")).\n",
    "        when(pl.col(\"worksite_zip\") == \"95391\").\n",
    "        then(pl.lit(\"95304\")). # closest city nearby. newly incorporate city july 2024\n",
    "        when(pl.col(\"worksite_zip\") == \"48033\").\n",
    "        then(pl.lit(\"48037\")).\n",
    "        otherwise(pl.col(\"worksite_zip\"))\n",
    "        .alias(\"updated_worksite_zip\")\n",
    "    )\n",
    "\n",
    "    df = df.join(country_code.select(\"a3_code\", \"country_name\"),\n",
    "                 how=\"left\",\n",
    "                 left_on=\"nationality\",\n",
    "                 right_on=\"a3_code\")\n",
    "\n",
    "    return df"
   ]
  },
  {
   "cell_type": "code",
   "execution_count": 13,
   "metadata": {},
   "outputs": [],
   "source": [
    "# Load 2021-2024 USCIS data obtained by Bloomberg\n",
    "beneficiaries_21 = process_bloomberg_data(\"../data/bloomberg_h1b_records_2021.csv\")\n",
    "beneficiaries_22 = process_bloomberg_data(\"../data/bloomberg_h1b_records_2022.csv\")\n",
    "beneficiaries_23 = process_bloomberg_data(\"../data/bloomberg_h1b_records_2023.csv\")\n",
    "beneficiaries_24_single = process_bloomberg_data(\"../data/bloomberg_h1b_records_2024_singl.csv\")\n",
    "beneficiaries_24_multi = process_bloomberg_data(\"../data/bloomberg_h1b_records_2024_multi.csv\")"
   ]
  },
  {
   "cell_type": "markdown",
   "metadata": {},
   "source": [
    "Location-wise, where are the employers and where are the H1B workers?"
   ]
  },
  {
   "cell_type": "code",
   "execution_count": null,
   "metadata": {},
   "outputs": [],
   "source": [
    "zipcodes = pl.read_csv(\"../data/zipcodes.csv\")\n",
    "zipcodes = zipcodes.with_columns(pl.col(\"zip_code\").cast(pl.Utf8).str.zfill(5))\n",
    "beneficiaries_23_worksite = beneficiaries_23.join(zipcodes, how=\"left\",\n",
    "                                                  left_on=\"updated_worksite_zip\",\n",
    "                                                  right_on=\"zip_code\")\n",
    "\n",
    "# Omit less than 1% of records where worksite_zip has less than 30 filings and not in DB\n",
    "beneficiaries_23_worksite = beneficiaries_23_worksite.filter((~pl.col(\"worksite_zip\").is_null()) & \n",
    "                                                             (~pl.col(\"latitude\").is_null()))\n",
    "\n",
    "# Capture the one record that's not on the map\n",
    "beneficiaries_23_worksite.filter(pl.col(\"updated_worksite_zip\") == \"00968\") # Puerto Rico"
   ]
  },
  {
   "cell_type": "code",
   "execution_count": null,
   "metadata": {},
   "outputs": [],
   "source": [
    "# Create choropleth US map\n",
    "states = alt.topo_feature(data.us_10m.url, feature=\"states\")\n",
    "beneficiaries_23_bystate = beneficiaries_23.unique(\"fein\").group_by(\"employer_state_corrected\").len(name=\"petitioners_count\")\n",
    "\n",
    "# Reference: https://stackoverflow.com/questions/66892810/using-transform-lookup-for-an-altair-choropleth-figure\n",
    "pd_state_code = pd.read_csv('https://www2.census.gov/geo/docs/reference/state.txt', sep=\"|\")\n",
    "pd_state_code.columns = ['id', 'abbr', 'state', 'statens']\n",
    "pd_state_code = pd_state_code[['id', 'abbr', 'state']]\n",
    "pl_state_code = pl.from_pandas(pd_state_code)\n",
    "\n",
    "beneficiaries_23_bystate = beneficiaries_23_bystate.join(pl_state_code,\n",
    "                                                         how=\"left\",\n",
    "                                                         left_on=\"employer_state_corrected\",\n",
    "                                                         right_on=\"abbr\")\n",
    "\n",
    "base = alt.Chart(states).mark_geoshape(fill='black', stroke='black', strokeWidth=0.5)\n",
    "\n",
    "map = alt.Chart(states).mark_geoshape().encode(\n",
    "    color=alt.Color(\"petitioners_count:Q\", scale=alt.Scale(scheme='lightorange'), title=\"Employers count\")\n",
    ").transform_lookup(\n",
    "    lookup=\"id\",\n",
    "    from_=alt.LookupData(beneficiaries_23_bystate, \"id\", [\"petitioners_count\"])\n",
    ").properties(\n",
    "    width=500,\n",
    "    height=300\n",
    ").project(\"albersUsa\")\n",
    "\n",
    "dot = alt.Chart(beneficiaries_23_worksite).mark_circle(color=\"#3D5149\", opacity=0.5).encode(\n",
    "    longitude='longitude:Q',\n",
    "    latitude='latitude:Q',\n",
    "    tooltip='updated_worksite_zip:N',\n",
    "    size=alt.Size(\"count():Q\",\n",
    "                  legend=alt.Legend(title=\"Selected filings count\"),\n",
    "                  scale=alt.Scale(domain=(1, 2000)))\n",
    ").project(\n",
    "    type='albersUsa'\n",
    ").properties(\n",
    "    width=500,\n",
    "    height=300\n",
    ")\n",
    "\n",
    "alt.layer(base, map, dot).properties(title=\"Employers and selected H1B workers worksite density across the US (2023)\").configure(background='#F6F5F4')"
   ]
  },
  {
   "cell_type": "code",
   "execution_count": null,
   "metadata": {},
   "outputs": [],
   "source": [
    "# Find states with highest petitioners count\n",
    "beneficiaries_23_bystate.sort(\"petitioners_count\", descending=True)"
   ]
  },
  {
   "cell_type": "markdown",
   "metadata": {},
   "source": [
    "What about nationality profiling?"
   ]
  },
  {
   "cell_type": "code",
   "execution_count": 17,
   "metadata": {},
   "outputs": [],
   "source": [
    "def filings_by_nationality(dataset, multifiling, top_ranking):\n",
    "    df = dataset.filter((~pl.col(\"country_name\").is_null()) &\n",
    "                        (pl.col(\"ben_multi_reg_ind\") == multifiling)\n",
    "                        ).group_by(pl.col(\"country_name\", \"fiscal_year\")).len()\n",
    "    \n",
    "    top_nationality = df.select(\n",
    "        pl.all().top_k_by(\"len\", top_ranking)\n",
    "        ).select(\"country_name\").to_series()\n",
    "    \n",
    "    df = df.with_columns(pl.when(~pl.col(\"country_name\").is_in(top_nationality))\n",
    "                                    .then(pl.lit(\"Others\"))\n",
    "                                    .when(pl.col(\"country_name\").str.contains(\"Korea, Republic of\"))\n",
    "                                    .then(pl.lit(\"South Korea\"))\n",
    "                                    .otherwise(pl.col(\"country_name\"))\n",
    "                                    .alias(\"nationality_shortlisted\"))\n",
    "    \n",
    "    return df"
   ]
  },
  {
   "cell_type": "code",
   "execution_count": null,
   "metadata": {},
   "outputs": [],
   "source": [
    "# 2023 saw people from 185 countries applying for H1B\n",
    "beneficiaries_23.filter(~pl.col(\"country_name\").is_null()).group_by(pl.col(\"country_name\")).len().with_columns((pl.col(\"len\") * 100 / pl.sum(\"len\")).alias(\"percent\")).sort(\"percent\", descending=True).head(10)"
   ]
  },
  {
   "cell_type": "code",
   "execution_count": null,
   "metadata": {},
   "outputs": [],
   "source": [
    "# Single-filers\n",
    "filings_by_nationality_single_23 = filings_by_nationality(beneficiaries_23, 0, 6)\n",
    "\n",
    "alt.Chart(filings_by_nationality_single_23).mark_arc().encode(\n",
    "    theta=\"len\",\n",
    "    color=alt.Color(\"nationality_shortlisted\", scale=alt.Scale(domain=[\"India\", \"Others\", \"China\", \"Canada\", \"Mexico\", \"Philippines\", \"South Korea\"],\n",
    "                                                              range=[\"#e45756\", \"#f58518\", \"#eeca3b\", \"#4c78a8\", \"#b279a2\", \"#72b7b2\", \"#54a24b\"]),\n",
    "                                                              title=\"Country of Birth\")\n",
    ").properties(title=alt.Title(\"Single-filing records by nationality (2023)\", fontSize=12),\n",
    "             height=200,\n",
    "             width=200).configure(background='#F6F5F4')"
   ]
  },
  {
   "cell_type": "code",
   "execution_count": null,
   "metadata": {},
   "outputs": [],
   "source": [
    "# Multi-filers\n",
    "filings_by_nationality_multiple_23 = filings_by_nationality(beneficiaries_23, 1, 6)\n",
    "\n",
    "alt.Chart(filings_by_nationality_multiple_23).mark_arc().encode(\n",
    "    theta=\"len\",\n",
    "    color=alt.Color(\"nationality_shortlisted\", scale=alt.Scale(domain=[\"India\", \"China\", \"Others\", \"Nepal\", \"Pakistan\", \"Philippines\", \"United Kingdom\"],\n",
    "                                                              range=[\"#e45756\", \"#eeca3b\", \"#f58518\", \"#bab0ac\", \"#ff9da6\", \"#72b7b2\", \"#9d755d\"]),\n",
    "                                                              title=\"Country of Birth\")\n",
    ").properties(title=alt.Title(\"Multiple-filing records by nationality (2023)\", fontSize=12),\n",
    "             height=200,\n",
    "             width=200).configure(background='#F6F5F4')"
   ]
  },
  {
   "cell_type": "markdown",
   "metadata": {},
   "source": [
    "Main characteristics of selected applicants at time of application?"
   ]
  },
  {
   "cell_type": "code",
   "execution_count": null,
   "metadata": {},
   "outputs": [],
   "source": [
    "# Education level\n",
    "education_23 = beneficiaries_23.filter((pl.col(\"ben_multi_reg_ind\") == 0) &\n",
    "                                       (pl.col(\"education_level\").is_in([\"M\", \"B\"]))\n",
    "                                       ).group_by(\"education_level\").len(name=\"filings_count\")\n",
    "\n",
    "education_23 = education_23.with_columns(pl\n",
    "                          .when(pl.col(\"education_level\") == \"B\")\n",
    "                          .then(pl.lit(\"Bachelor's\"))\n",
    "                          .otherwise(pl.lit(\"Master's\"))\n",
    "                          .alias(\"degree_type\"))\n",
    "\n",
    "alt.Chart(education_23).mark_bar().encode(\n",
    "    alt.Y(\"degree_type:N\", title=\"Education level\"),\n",
    "    alt.X(\"filings_count:Q\", title=\"Count of Filings\"),\n",
    "    color=alt.Color(\"degree_type:N\", scale=alt.Scale(domain=[\"Bachelor's\", \"Master's\"],\n",
    "                                     range=[\"#DB7F67\", \"#DBBEA1\"]), legend=None)\n",
    ").properties(title=alt.Title(\"Single-filings by education level (2023)\", fontSize=12)).configure(background='#F6F5F4')"
   ]
  },
  {
   "cell_type": "code",
   "execution_count": null,
   "metadata": {},
   "outputs": [],
   "source": [
    "# Age and gender distribution\n",
    "selected_by_age_23 = beneficiaries_23.filter(pl.col(\"ben_multi_reg_ind\") == 0\n",
    "                                             ).with_columns((pl.col(\"fiscal_year\") - pl.col(\"birthyear\")\n",
    "                                                             ).alias(\"age\"))\n",
    "\n",
    "alt.Chart(selected_by_age_23.filter(pl.col(\"age\").is_in(range(10, 71)))).mark_bar().encode(\n",
    "    alt.X(\"age:Q\", bin=alt.Bin(maxbins=15), scale=alt.Scale(domain=[10, 70]), title=\"Age Group\"),\n",
    "    alt.Y(\"count():Q\", title=\"Records count\"),\n",
    "    color=alt.Color(\"gender:N\", title=\"Gender\",\n",
    "                    scale=alt.Scale(domain=[\"female\", \"male\"],\n",
    "                                    range=[\"#ff9da6\", \"#79706e\"])\n",
    ")).properties(title=alt.Title(\"Single-filing records by gender and age (2023)\", fontSize=12)).configure(background='#F6F5F4')"
   ]
  },
  {
   "cell_type": "code",
   "execution_count": null,
   "metadata": {},
   "outputs": [],
   "source": [
    "# Income distribution\n",
    "pl.Config.set_fmt_str_lengths(80)\n",
    "\n",
    "selected_income_23 = beneficiaries_23.filter(~pl.col(\"base_income\").is_null() |\n",
    "                                             ~pl.col(\"wage_amount\").is_null()\n",
    "                                             ).with_columns(pl.col(\"dot_code\").cast(pl.Utf8).str.zfill(3))\n",
    "\n",
    "# Read in job code data file\n",
    "job_code = pl.read_excel(\"../data/i129_job_codes.xlsx\")\n",
    "job_code = job_code.rename({\"Occupation Category\": \"category\", \"Occupation Code\": \"dot_code\", \"Occupation Description\": \"occupation\"})\n",
    "\n",
    "# Filter out NA values and values likely due to misinput\n",
    "selected_income_23 = selected_income_23.join(job_code, how=\"left\", on=\"dot_code\")\n",
    "selected_income_23 = selected_income_23.with_columns((pl.col(\"fiscal_year\") - pl.col(\"birthyear\")).alias(\"age\"))\n",
    "selected_income_23 = selected_income_23.filter((pl.col(\"base_income\") > 0) &\n",
    "                                               (pl.col(\"wage_amount\") > 0) &\n",
    "                                               (pl.col(\"base_income\") < 800000) &\n",
    "                                               (pl.col(\"age\") > 18) &\n",
    "                                               (~pl.col(\"category\").is_null()))\n",
    "\n",
    "# Clean data\n",
    "selected_income_23 = selected_income_23.with_columns(pl\n",
    "                             .when((pl.col(\"wage_unit\") == \"HOUR\") & (pl.col(\"wage_amount\") < 100))\n",
    "                             .then(pl.col(\"wage_amount\") * 2080)\n",
    "                             .when((pl.col(\"wage_unit\") == \"WEEK\") & (pl.col(\"wage_amount\") < 4000))\n",
    "                             .then(pl.col(\"wage_amount\") * 52)\n",
    "                             .when((pl.col(\"wage_unit\") == \"MONTH\") & (pl.col(\"wage_amount\") < 16000))\n",
    "                             .then(pl.col(\"wage_amount\") * 12)\n",
    "                             .when((pl.col(\"wage_unit\") == \"YEAR\") & (pl.col(\"wage_amount\").is_in(range(20000, 800000))))\n",
    "                             .then(pl.col(\"wage_amount\"))\n",
    "                             .when((pl.col(\"wage_unit\") == \"YEAR\") & (pl.col(\"wage_amount\") < 100))\n",
    "                             .then(pl.col(\"wage_amount\") * 2080)\n",
    "                             .otherwise(\"base_income\")\n",
    "                             .alias(\"computed_yearly_wage\")\n",
    ")\n",
    "\n",
    "selected_income_23 = selected_income_23.with_columns(max=pl.max_horizontal(\"computed_yearly_wage\", \"base_income\"),\n",
    "                             min=pl.min_horizontal(\"computed_yearly_wage\", \"base_income\"))\n",
    "\n",
    "selected_income_23 = selected_income_23.with_columns(pl\n",
    "                             .when((pl.col(\"computed_yearly_wage\").is_in(range(0, 300000))) &\n",
    "                                   (pl.col(\"max\") < 400000))\n",
    "                             .then(pl.col(\"max\"))\n",
    "                             .otherwise(pl.col(\"min\"))\n",
    "                             .alias(\"final_yearly_income\")\n",
    "                             ).sort(\"final_yearly_income\", descending=True).filter(pl.col(\"final_yearly_income\") >= 20000) # 13 observtions with irreconcilable typos in both wage columns\n",
    "\n",
    "base = alt.Chart(selected_income_23.filter(pl.col(\"final_yearly_income\") < 260000)).mark_bar(color=\"#32565D\").encode(\n",
    "    x=alt.X(\"final_yearly_income\", type=\"quantitative\",\n",
    "            bin=alt.Bin(maxbins=30),\n",
    "            title=\"Count of filings (thousands)\",\n",
    "            axis=alt.Axis(labelExpr=\"datum.value / 1000\")),\n",
    "    y=alt.Y(\"count():O\", title=\"Yearly income range (USD)\")\n",
    ").properties(\n",
    "    height=200,\n",
    "    width=450\n",
    ").properties(title=alt.Title(\"Yearly income reported for selected filings (2023)\", fontSize=12))\n",
    "\n",
    "alt.concat(base, background=\"#F6F5F4\").properties(title=alt.TitleParams(\"Yearly income outliers over $320,000 not shown in chart.\",\n",
    "                                   baseline='bottom',\n",
    "                                   orient='bottom',\n",
    "                                   anchor='end',\n",
    "                                   fontWeight='normal',\n",
    "                                   fontSize=7))\n"
   ]
  },
  {
   "cell_type": "code",
   "execution_count": null,
   "metadata": {},
   "outputs": [],
   "source": [
    "# Top 10 earnings category, title and field of study table\n",
    "top_table = selected_income_23.sort(\"final_yearly_income\", descending=True).head(10).select(\"job_title\", \"field_of_study\", \"final_yearly_income\")\n",
    "top_table = top_table.with_columns(pl.when(pl.col(\"field_of_study\").str.contains_any([\"BUSINESS\", \"MANAGEMENT\"]))\n",
    "                               .then(pl.lit(\"BUSINESS & MANAGEMENT\"))\n",
    "                               .when(pl.col(\"field_of_study\").str.contains(\"ELECTRONIC\"))\n",
    "                               .then(pl.lit(\"ELECTRICAL ENGINEERING\"))\n",
    "                               .otherwise(pl.col(\"field_of_study\"))\n",
    "                               .alias(\"summarized_field_of_study\")\n",
    "                               ).select(\"summarized_field_of_study\", \"job_title\", \"final_yearly_income\")\n",
    "\n",
    "top_table"
   ]
  },
  {
   "cell_type": "code",
   "execution_count": null,
   "metadata": {},
   "outputs": [],
   "source": [
    "# Income by occupation category\n",
    "alt.Chart(selected_income_23.filter(pl.col(\"category\") != \"Miscellaneous\")\n",
    "          ).mark_boxplot(extent='min-max', color=\"#32565D\").encode(\n",
    "    alt.X(\"category\", type=\"nominal\",\n",
    "          axis=alt.Axis(labelAngle=-45, labelLimit=350),\n",
    "          title=\"Occupation category\"),\n",
    "    alt.Y(\"final_yearly_income:Q\",\n",
    "          title=\"Reported yearly income (thousand USD)\",\n",
    "          axis=alt.Axis(labelExpr=\"datum.value / 1000\"))\n",
    ").properties(\n",
    "    width=500,\n",
    "    height=300\n",
    ").properties(title=alt.Title(\"Yearly income reported by Occupation Category (2023)\", fontSize=12)).configure(background=\"#F6F5F4\")"
   ]
  },
  {
   "cell_type": "markdown",
   "metadata": {},
   "source": [
    "What of an individual chances?"
   ]
  },
  {
   "cell_type": "code",
   "execution_count": 26,
   "metadata": {},
   "outputs": [],
   "source": [
    "def chances_df(df):\n",
    "    df = df.filter(pl.col(\"status_type\") != \"(b)(3) (b)(6) (b)(7)(c)\")\n",
    "    df = df.with_columns(pl\n",
    "                    .when(pl.col(\"status_type\") == \"CREATED\")\n",
    "                    .then(pl.lit(\"ELIGIBLE\"))\n",
    "                    .otherwise(pl.col(\"status_type\"))\n",
    "                    .alias(\"status\")\n",
    "    )\n",
    "\n",
    "    df = df.select(\"nationality\", \"fiscal_year\", \"status\", \"ben_multi_reg_ind\", \"current_class\", \"first_decision\")\n",
    "    return df\n",
    "\n",
    "# Create complete df for chance analysis\n",
    "chances_24_single = chances_df(beneficiaries_24_single)\n",
    "chances_24_multi = chances_df(beneficiaries_24_multi)\n",
    "\n",
    "chances_df = pl.concat([chances_df(beneficiaries_21),\n",
    "                        chances_df(beneficiaries_22),\n",
    "                        chances_df(beneficiaries_23),\n",
    "                        chances_24_single,\n",
    "                        chances_24_multi])\n",
    "chances_df = chances_df.filter(~((pl.col(\"status\") == \"ELIGIBLE\") &\n",
    "                                 (~pl.col(\"first_decision\").is_null()))) # irrelevant, not picked on lottery but still filing"
   ]
  },
  {
   "cell_type": "code",
   "execution_count": 27,
   "metadata": {},
   "outputs": [],
   "source": [
    "beneficiaries_by_filing = chances_df.filter(~pl.col(\"ben_multi_reg_ind\").is_null())\n",
    "filing_chance = beneficiaries_by_filing.group_by([\"fiscal_year\", \"ben_multi_reg_ind\", \"status\", \"first_decision\"]).len(name=\"count\")"
   ]
  },
  {
   "cell_type": "code",
   "execution_count": 28,
   "metadata": {},
   "outputs": [],
   "source": [
    "sum_of_filings = filing_chance.group_by([\"fiscal_year\", \"ben_multi_reg_ind\"]\n",
    "                                        ).agg(total_yearly_filings=pl.col(\"count\").sum())\n",
    "sum_of_filings = sum_of_filings.with_columns((pl.col(\"total_yearly_filings\") / 1000).alias(\"thousands\"))"
   ]
  },
  {
   "cell_type": "code",
   "execution_count": null,
   "metadata": {},
   "outputs": [],
   "source": [
    "# Create chart for filings by type (removing legend for inforgraphics incorporation purposes)\n",
    "sum_of_filings = sum_of_filings.with_columns(pl\n",
    "                         .when(pl.col(\"ben_multi_reg_ind\") == 0)\n",
    "                         .then(pl.lit(\"Single\"))\n",
    "                         .otherwise(pl.lit(\"Multiple\"))\n",
    "                         .alias(\"filing_type\"))\n",
    "\n",
    "alt.Chart(sum_of_filings).mark_bar().encode(\n",
    "    alt.Y(\"fiscal_year\", type=\"nominal\", title=\"Fiscal Year\"),\n",
    "    alt.X(\"thousands\", type=\"quantitative\", axis=alt.Axis(title=\"Total yearly Filings (thousands)\",\n",
    "                                                          tickMinStep=200000)),\n",
    "    color=alt.Color(\"filing_type:N\", title=\"Filing type\", \n",
    "                    scale=alt.Scale(domain=[\"Single\", \"Multiple\"],\n",
    "                                    range=[\"#698C7D\", \"#32555D\"]),\n",
    "                    legend=None),\n",
    ").properties(width=250, height=70).configure(background=\"#F6F5F4\")"
   ]
  },
  {
   "cell_type": "code",
   "execution_count": null,
   "metadata": {},
   "outputs": [],
   "source": [
    "filings_df = filing_chance.join(sum_of_filings, how=\"left\", on=[\"fiscal_year\", \"ben_multi_reg_ind\"])\n",
    "filings_df.filter(pl.col(\"fiscal_year\") == 2023)"
   ]
  },
  {
   "cell_type": "code",
   "execution_count": null,
   "metadata": {},
   "outputs": [],
   "source": [
    "# Chance to get picked from lottery\n",
    "selected_count = filings_df.filter(pl.col(\"status\") == \"SELECTED\"\n",
    "                                   ).group_by([\"fiscal_year\", \"ben_multi_reg_ind\"]\n",
    "                                              ).agg(total_selected=pl.col(\"count\").sum())\n",
    "lottery_win = selected_count.join(sum_of_filings, how=\"left\", on=[\"fiscal_year\", \"ben_multi_reg_ind\"])\n",
    "lottery_win = lottery_win.with_columns((pl.col(\"total_selected\") / pl.col(\"total_yearly_filings\")).alias(\"winning_rate\"))\n",
    "\n",
    "lottery_win = lottery_win.with_columns(pl\n",
    "                         .when(pl.col(\"ben_multi_reg_ind\") == 0)\n",
    "                         .then(pl.lit(\"Single\"))\n",
    "                         .otherwise(pl.lit(\"Multiple\"))\n",
    "                         .alias(\"filing_type\"))\n",
    "\n",
    "chance_1 = alt.Chart(lottery_win).mark_bar(color=\"#454722\").encode(\n",
    "    alt.X(\"filing_type\", type=\"nominal\", title=None, axis=alt.Axis(labels=False)),\n",
    "    alt.Y(\"winning_rate\", type=\"quantitative\", title=\"Lottery winning rate\").scale(domain=(0, 1)),\n",
    "    color=alt.Color(\"filing_type:N\", title=\"Filing type\", \n",
    "                    scale=alt.Scale(domain=[\"Single\", \"Multiple\"],\n",
    "                                    range=[\"#698C7D\", \"#32555D\"])),\n",
    "    column=alt.Column(\"fiscal_year:N\", title=\"Fiscal Year\",\n",
    "                      spacing=10,\n",
    "                      header=alt.Header(titleOrient='bottom', labelOrient='bottom'))\n",
    ").properties(title=alt.Title(\"H1B selection from H1B lottery (2021-2024)\", fontSize=12)).configure(background=\"#F6F5F4\")\n",
    "\n",
    "chance_1"
   ]
  },
  {
   "cell_type": "code",
   "execution_count": null,
   "metadata": {},
   "outputs": [],
   "source": [
    "responded = filing_chance.filter((pl.col(\"status\") == \"SELECTED\") &\n",
    "                                 (~pl.col(\"first_decision\").is_null()))\n",
    "sum_of_getback = responded.group_by([\"fiscal_year\", \"ben_multi_reg_ind\"]).agg(getback_sum=pl.col(\"count\").sum())\n",
    "sum_of_getback"
   ]
  },
  {
   "cell_type": "code",
   "execution_count": null,
   "metadata": {},
   "outputs": [],
   "source": [
    "# Conditional on being picked, chance to get approved\n",
    "approval_rate = filing_chance.filter((pl.col(\"status\") == \"SELECTED\") &\n",
    "                                     (~pl.col(\"first_decision\").is_null()))\n",
    "approval_rate = approval_rate.join(sum_of_getback,\n",
    "                                   how=\"left\",\n",
    "                                   on=[\"fiscal_year\", \"ben_multi_reg_ind\"]\n",
    "                                   ).filter(pl.col(\"first_decision\") == \"Approved\"\n",
    "                                            ).with_columns((pl.col(\"count\") / pl.col(\"getback_sum\")).alias(\"approved_rate\"))\n",
    "\n",
    "approval_rate = approval_rate.with_columns(pl\n",
    "                         .when(pl.col(\"ben_multi_reg_ind\") == 0)\n",
    "                         .then(pl.lit(\"Single\"))\n",
    "                         .otherwise(pl.lit(\"Multiple\"))\n",
    "                         .alias(\"filing_type\"))\n",
    "\n",
    "chance_2 = alt.Chart(approval_rate).mark_bar().encode(\n",
    "    alt.X(\"filing_type\", type=\"nominal\", title=None, axis=alt.Axis(labels=False)),\n",
    "    alt.Y(\"approved_rate\", type=\"quantitative\", title=\"Approval rate\").scale(domain=(0, 1)),\n",
    "    color=alt.Color(\"filing_type:N\", title=\"Filing type\", \n",
    "                    scale=alt.Scale(domain=[\"Single\", \"Multiple\"],\n",
    "                                    range=[\"#698C7D\", \"#32555D\"])),\n",
    "    column=alt.Column(\"fiscal_year:N\", title=\"Fiscal Year\",\n",
    "                      spacing=10,\n",
    "                      header=alt.Header(titleOrient='bottom', labelOrient='bottom'))\n",
    ").properties(title=alt.Title(\"H1B approval from lottery-won filings (2021-2024)\", fontSize=12)).configure(background=\"#F6F5F4\")\n",
    "\n",
    "chance_2"
   ]
  },
  {
   "cell_type": "code",
   "execution_count": null,
   "metadata": {},
   "outputs": [],
   "source": [
    "# Because approval rate is almost 100%, overall rate is not insightful\n",
    "# So we look at response rate\n",
    "response_rate = filings_df.filter((pl.col(\"status\") == \"SELECTED\") & (pl.col(\"first_decision\").is_null()))\n",
    "response_rate = response_rate.join(selected_count, how=\"left\", on=[\"fiscal_year\", \"ben_multi_reg_ind\"])\n",
    "response_rate = response_rate.with_columns((pl.col(\"count\") / pl.col(\"total_selected\")).alias(\"non_response_rate\"))\n",
    "\n",
    "response_rate = response_rate.with_columns(pl\n",
    "                         .when(pl.col(\"ben_multi_reg_ind\") == 0)\n",
    "                         .then(pl.lit(\"Single\"))\n",
    "                         .otherwise(pl.lit(\"Multiple\"))\n",
    "                         .alias(\"filing_type\"))\n",
    "\n",
    "chance_3 = alt.Chart(response_rate).mark_bar().encode(\n",
    "    alt.X(\"filing_type\", type=\"nominal\", title=None, axis=alt.Axis(labels=False)),\n",
    "    alt.Y(\"non_response_rate\", type=\"quantitative\", title=\"Non-response rate\").scale(domain=(0, 1)),\n",
    "    color=alt.Color(\"filing_type:N\", title=\"Filing type\", \n",
    "                    scale=alt.Scale(domain=[\"Single\", \"Multiple\"],\n",
    "                                    range=[\"#698C7D\", \"#32555D\"])),\n",
    "    column=alt.Column(\"fiscal_year:N\", title=\"Fiscal Year\",\n",
    "                      spacing=10,\n",
    "                      header=alt.Header(titleOrient='bottom', labelOrient='bottom'))\n",
    ").properties(title=alt.Title(\"Non-responses from lottery-won filings (2021-2024)\", fontSize=12)).configure(background=\"#F6F5F4\")\n",
    "\n",
    "chance_3"
   ]
  }
 ],
 "metadata": {
  "kernelspec": {
   "display_name": "Python 3",
   "language": "python",
   "name": "python3"
  },
  "language_info": {
   "codemirror_mode": {
    "name": "ipython",
    "version": 3
   },
   "file_extension": ".py",
   "mimetype": "text/x-python",
   "name": "python",
   "nbconvert_exporter": "python",
   "pygments_lexer": "ipython3",
   "version": "3.10.12"
  }
 },
 "nbformat": 4,
 "nbformat_minor": 2
}
