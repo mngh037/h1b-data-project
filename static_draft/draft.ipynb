{
 "cells": [
  {
   "cell_type": "code",
   "execution_count": null,
   "metadata": {},
   "outputs": [],
   "source": [
    "import polars as pl\n",
    "import altair as alt\n",
    "from vega_datasets import data\n",
    "import pandas as pd\n",
    "\n",
    "alt.data_transformers.enable(\"vegafusion\")"
   ]
  },
  {
   "cell_type": "code",
   "execution_count": null,
   "metadata": {},
   "outputs": [],
   "source": [
    "alt.themes.enable(\"opaque\")"
   ]
  },
  {
   "cell_type": "markdown",
   "metadata": {},
   "source": [
    "How many H1B petitioners are there for each year? What sectors are they in?"
   ]
  },
  {
   "cell_type": "code",
   "execution_count": null,
   "metadata": {},
   "outputs": [],
   "source": [
    "uscis_petitioners_2021_2024 = pl.read_excel(\"../data/uscis_h1b_approvals_2021_2024.xlsx\")\n",
    "uscis_petitioners_2017_2020 = pl.read_excel(\"../data/uscis_h1b_approvals_2017_2020.xlsx\")\n",
    "uscis_petitioners = uscis_petitioners_2017_2020.vstack(uscis_petitioners_2021_2024)\n",
    "uscis_petitioners"
   ]
  },
  {
   "cell_type": "code",
   "execution_count": 4,
   "metadata": {},
   "outputs": [],
   "source": [
    "uscis_petitioners = uscis_petitioners.rename({\"Line by line\": \"id\",\n",
    "                                              \"Fiscal Year   \": \"fiscal_year\",\n",
    "                                              \"Employer (Petitioner) Name\": \"name\",\n",
    "                                              \"Tax ID\": \"tax_id\",\n",
    "                                              \"Industry (NAICS) Code\": \"naics_code\",\n",
    "                                              \"Petitioner City\": \"city\",\n",
    "                                              \"Petitioner State\": \"state\",\n",
    "                                              \"Petitioner Zip Code\": \"zip\",\n",
    "                                              \"Initial Approval\": \"initial_approval\",\n",
    "                                              \"Initial Denial\": \"initial_denial\",\n",
    "                                              \"Continuing Approval\": \"continuing_approval\",\n",
    "                                              \"Continuing Denial\": \"continuing_denial\"})\n",
    "\n",
    "# TODO: clean naics_code column among others here"
   ]
  },
  {
   "cell_type": "code",
   "execution_count": null,
   "metadata": {},
   "outputs": [],
   "source": [
    "# Check to see if USCIS data contains duplicate records of employers\n",
    "\n",
    "uscis_petitioners.n_unique(subset=[\"fiscal_year\", \"tax_id\"]) # there are 79244 counts of (employers, year)\n",
    "\n",
    "petitioners_count = uscis_petitioners.group_by(\"fiscal_year\", \"tax_id\").len(name=\"employers_count\")\n",
    "petitioners_count # there are indeed dupliates"
   ]
  },
  {
   "cell_type": "code",
   "execution_count": 6,
   "metadata": {},
   "outputs": [],
   "source": [
    "# Construct a new df with each row representing unique employers only\n",
    "petitioners_df = uscis_petitioners.unique(subset=[\"fiscal_year\", \"tax_id\"])\n",
    "petitioners_df = petitioners_df.with_columns(\n",
    "    pl.when(pl.col(\"naics_code\").str.contains(\"54\")) # do with regex\n",
    "    .then(pl.lit(\"Professional, Scientific, and Technical Services\"))\n",
    "    .when(pl.col(\"naics_code\").str.contains(\"31-33\"))\n",
    "    .then(pl.lit(\"Manufacturing\"))\n",
    "    .when(pl.col(\"naics_code\").str.contains(\"62\"))\n",
    "    .then(pl.lit(\"Healthcare and Social Assistance\"))\n",
    "    .when(pl.col(\"naics_code\").str.contains(\"52\"))\n",
    "    .then(pl.lit(\"Finance and Insurance\"))\n",
    "    .when(pl.col(\"naics_code\").str.contains(\"51\"))\n",
    "    .then(pl.lit(\"Information\"))\n",
    "    .when(pl.col(\"naics_code\").str.contains(\"61\"))\n",
    "    .then(pl.lit(\"Educational Services\"))\n",
    "    .when(pl.col(\"naics_code\").str.contains(\"42\"))\n",
    "    .then(pl.lit(\"Wholesale Trade\"))\n",
    "    .otherwise(pl.lit(\"Other\"))\n",
    "    .alias(\"sector\")\n",
    ")"
   ]
  },
  {
   "cell_type": "code",
   "execution_count": null,
   "metadata": {},
   "outputs": [],
   "source": [
    "# Because there are many sectors, we extract the first 5 popular so as not to clutter the chart\n",
    "top_naics_by_petitioners = (petitioners_df.group_by([\"fiscal_year\", \"naics_code\"])\n",
    "                            .len().filter(pl.col(\"fiscal_year\") == \"2024\")\n",
    "                            .sort(\"len\", descending=True))\n",
    "top_naics_by_petitioners.head(10)"
   ]
  },
  {
   "cell_type": "code",
   "execution_count": null,
   "metadata": {},
   "outputs": [],
   "source": [
    "# Number of companies filing don't change much over the years (about 10k)\n",
    "# A slight but discernible increase in need for foreign talent in the tech sector.\n",
    "# Industry profile of H1B petitioners remain fairly consistent\n",
    "alt.Chart(petitioners_df).mark_area().encode(\n",
    "    alt.X(\"fiscal_year\", type=\"nominal\"),\n",
    "    alt.Y(aggregate=\"count\", type=\"quantitative\", title=\"employers_count\"),\n",
    "    alt.Color(\"sector\", scale=alt.Scale(scheme='tableau10'))\n",
    ").properties(\n",
    "    title=\"Employers filing for H1B petitions (2017-2024)\"\n",
    ")"
   ]
  },
  {
   "cell_type": "markdown",
   "metadata": {},
   "source": [
    "What about the number of H1B filings?"
   ]
  },
  {
   "cell_type": "code",
   "execution_count": null,
   "metadata": {},
   "outputs": [],
   "source": [
    "# Verify 2017-2020 cap-subjected filings\n",
    "uscis_filings = pl.read_excel(\"../data/uscis_h1b_eligible_registration_2017_2020.xlsx\")\n",
    "base = alt.Chart().mark_bar(color=\"#384d26\").encode(\n",
    "    alt.X(\"fiscal_year\", type=\"nominal\"),\n",
    "    alt.Y(\"count\", type=\"quantitative\", title=\"total_cap_subjected_filings\")\n",
    ")\n",
    "\n",
    "line = (alt.Chart(pl.DataFrame({\"y\": 85000}))\n",
    "        .mark_rule(color=\"#EBEBEB\")\n",
    "        .encode(alt.Y(\"y\", type=\"quantitative\"))\n",
    ")\n",
    "\n",
    "alt.layer(base, line, data=uscis_filings).properties(title=\"H1B filings (2017-2024)\")"
   ]
  },
  {
   "cell_type": "markdown",
   "metadata": {},
   "source": [
    "Now diving in data at individual level. Due to [...], we examine H1B lottery data (filings that are subjected to cap) 2023"
   ]
  },
  {
   "cell_type": "code",
   "execution_count": 10,
   "metadata": {},
   "outputs": [],
   "source": [
    "# mosaic chart to profile nationality of beneficiary/filer (single/multiple regis)\n",
    "# choloreth heat map of US (shading for employees, spots for worksite)\n",
    "# text over heatmap for denial rate for race, class type\n",
    "# occupation types and compensation (scatterplot?)\n",
    "# chance (master, bachelor, single filer, multiple filer?)\n",
    "# compare compensation with domestic for some job groups\n",
    "# track h1b selection and unemployment"
   ]
  },
  {
   "cell_type": "code",
   "execution_count": 11,
   "metadata": {},
   "outputs": [],
   "source": [
    "beneficiaries = pl.read_csv(\"../data/bloomberg_h1b_records_2023.csv\", ignore_errors=True)\n",
    "beneficiaries = beneficiaries.select([\"country_of_nationality\", \"ben_year_of_birth\", \"gender\", \"employer_name\",\n",
    "                      \"FEIN\", \"state\", \"lottery_year\", \"status_type\", \"rec_date\", \"FIRST_DECISION\", \"ben_multi_reg_ind\",\n",
    "                      \"first_decision_date\", \"BEN_CURRENT_CLASS\", \"REQUESTED_CLASS\", \"BASIS_FOR_CLASSIFICATION\", \"JOB_TITLE\",\n",
    "                      \"WORKSITE_ZIP\", \"BEN_PFIELD_OF_STUDY\", \"BEN_COMP_PAID\", \"S3Q1\",\n",
    "                      \"DOT_CODE\", \"NAICS_CODE\"]).rename({\"country_of_nationality\": \"nationality\",\n",
    "                                                         \"ben_year_of_birth\": \"birthyear\",\n",
    "                                                         \"state\": \"employer_state\",\n",
    "                                                         \"FEIN\": \"fein\",\n",
    "                                                         \"NAICS_CODE\": \"naics_code\",\n",
    "                                                         \"lottery_year\": \"fiscal_year\",\n",
    "                                                         \"FIRST_DECISION\": \"first_decision\",\n",
    "                                                         \"BEN_CURRENT_CLASS\": \"current_class\",\n",
    "                                                         \"REQUESTED_CLASS\": \"requested_class\",\n",
    "                                                         \"BASIS_FOR_CLASSIFICATION\": \"filing_type\",\n",
    "                                                         \"JOB_TITLE\": \"job_title\",\n",
    "                                                         \"WORKSITE_ZIP\": \"worksite_zip\",\n",
    "                                                         \"BEN_PFIELD_OF_STUDY\": \"field_of_study\",\n",
    "                                                         \"DOT_CODE\": \"dot_code\",\n",
    "                                                         \"BEN_COMP_PAID\": \"base_income\",\n",
    "                                                         \"S3Q1\": \"filing_category\"})\n",
    "\n",
    "# Remove filing category \"exempt\" (we care about cap-subjected entries only), \n",
    "# select only new employment (lottery-participating entries), and care only about 1B1 (not HSC)\n",
    "# requested_class.\n",
    "\n",
    "# Incorrect state in data file. Modify TS to TN\n",
    "beneficiaries = beneficiaries.with_columns(pl.when(pl.col(\"employer_state\") == \"TS\")\n",
    "                             .then(pl.lit(\"TN\")).otherwise(pl.col(\"employer_state\"))\n",
    "                             .alias(\"employer_state_corrected\")).drop(\"employer_state\")"
   ]
  },
  {
   "cell_type": "code",
   "execution_count": 12,
   "metadata": {},
   "outputs": [],
   "source": [
    "# Pad zip with 0\n",
    "beneficiaries = beneficiaries.with_columns(pl.col(\"worksite_zip\").cast(pl.Utf8).str.zfill(5))\n",
    "zipcodes = pl.read_csv(\"../data/zipcodes.csv\")\n",
    "zipcodes = zipcodes.with_columns(pl.col(\"zip_code\").cast(pl.Utf8).str.zfill(5))\n",
    "beneficiaries_worksite = beneficiaries.join(zipcodes, how=\"left\", left_on=\"worksite_zip\", right_on=\"zip_code\")\n",
    "\n",
    "beneficiaries_worksite = beneficiaries_worksite.filter(~pl.col(\"worksite_zip\").is_null())"
   ]
  },
  {
   "cell_type": "code",
   "execution_count": null,
   "metadata": {},
   "outputs": [],
   "source": [
    "states = alt.topo_feature(data.us_10m.url, feature=\"states\")\n",
    "beneficiaries_bystate = beneficiaries.unique(\"fein\").group_by(\"employer_state_corrected\").len(name=\"filings_count\")\n",
    "\n",
    "# Reference: https://stackoverflow.com/questions/66892810/using-transform-lookup-for-an-altair-choropleth-figure\n",
    "pd_state_code = pd.read_csv('https://www2.census.gov/geo/docs/reference/state.txt', sep=\"|\")\n",
    "pd_state_code.columns = ['id', 'abbr', 'state', 'statens']\n",
    "pd_state_code = pd_state_code[['id', 'abbr', 'state']]\n",
    "pl_state_code = pl.from_pandas(pd_state_code)\n",
    "\n",
    "beneficiaries_bystate = beneficiaries_bystate.join(pl_state_code, how=\"left\", left_on=\"employer_state_corrected\", right_on=\"abbr\")\n",
    "\n",
    "base = alt.Chart(states).mark_geoshape(fill='black', stroke='black', strokeWidth=0.5)\n",
    "\n",
    "chart = alt.Chart(states).mark_geoshape().encode(\n",
    "    color=alt.Color(\"filings_count:Q\", scale=alt.Scale(scheme='lightorange'), title=\"petitioners_count\")\n",
    ").transform_lookup(\n",
    "    lookup=\"id\",\n",
    "    from_=alt.LookupData(beneficiaries_bystate, \"id\", [\"filings_count\"])\n",
    ").properties(\n",
    "    width=500,\n",
    "    height=300\n",
    ").project(\"albersUsa\")\n",
    "\n",
    "dot = alt.Chart(beneficiaries_worksite).mark_circle(color=\"#454722\").encode(\n",
    "    longitude='longitude:Q',\n",
    "    latitude='latitude:Q',\n",
    "    tooltip='worksite_zip:N',\n",
    "    size=\"count()\"\n",
    ").project(\n",
    "    type='albersUsa'\n",
    ").properties(\n",
    "    width=500,\n",
    "    height=300\n",
    ")\n",
    "\n",
    "alt.layer(base, chart, dot).properties(title=\"Petitioners and selected H1B workers worksite density across the US (2023)\")"
   ]
  },
  {
   "cell_type": "markdown",
   "metadata": {},
   "source": [
    "What about nationality profiling?"
   ]
  },
  {
   "cell_type": "code",
   "execution_count": null,
   "metadata": {},
   "outputs": [],
   "source": [
    "filings_by_nationality = beneficiaries.group_by(pl.col(\"nationality\")).len()\n",
    "filings_by_nationality.sort(\"len\", descending=True).head(10)\n",
    "filings_by_nationality = filings_by_nationality.with_columns(pl.when(~pl.col(\"nationality\").is_in([\"IND\", \"CHN\", \"CAN\", \"MEX\", \"PHL\", \"KOR\"]))\n",
    "                                    .then(pl.lit(\"OTHERS\"))\n",
    "                                    .otherwise(pl.col(\"nationality\"))\n",
    "                                    .alias(\"nationality_shortlisted\")).drop(\"nationality\").drop_nulls()\n",
    "\n",
    "\n",
    "alt.Chart(filings_by_nationality).mark_arc().encode(\n",
    "    theta=\"len\",\n",
    "    color=alt.Color(\"nationality_shortlisted\", scale=alt.Scale(scheme='tableau10'))\n",
    ").properties(title=\"Filings by nationality (2023)\")"
   ]
  },
  {
   "cell_type": "markdown",
   "metadata": {},
   "source": [
    "What of an individual chances?"
   ]
  },
  {
   "cell_type": "code",
   "execution_count": null,
   "metadata": {},
   "outputs": [],
   "source": [
    "beneficiaries_by_filing = beneficiaries.filter(~pl.col(\"ben_multi_reg_ind\").is_null())\n",
    "\n",
    "filing_chance = beneficiaries_by_filing.group_by([\"ben_multi_reg_ind\", \"status_type\", \"first_decision\"]).len()\n",
    "filing_chance"
   ]
  },
  {
   "cell_type": "code",
   "execution_count": null,
   "metadata": {},
   "outputs": [],
   "source": [
    "# How many multiple filers? How many single filers?\n",
    "base = alt.Chart(beneficiaries_by_filing).encode(\n",
    "    x='count()',\n",
    "    y=\"ben_multi_reg_ind:N\",\n",
    "    text='count()'\n",
    ")\n",
    "base.mark_bar(color=\"#454722\").properties(title=\"Multiple vs. Single filings (2023)\") + base.mark_text(align='left', dx=2)"
   ]
  },
  {
   "cell_type": "code",
   "execution_count": null,
   "metadata": {},
   "outputs": [],
   "source": [
    "# How many Bachelor's degree holders? How many Master's?\n",
    "beneficiaries_by_degree = beneficiaries_by_filing.filter(pl.col(\"filing_category\") != \"E\").group_by(\"filing_category\").len()\n",
    "beneficiaries_by_degree = beneficiaries_by_degree.with_columns(pl.when(pl.col(\"filing_category\") == \"B\")\n",
    "                                     .then(pl.lit(65000))\n",
    "                                     .otherwise(pl.lit(85000))\n",
    "                                     .alias(\"cap\"))\n",
    "\n",
    "\n",
    "bar = alt.Chart(beneficiaries_by_degree).mark_bar(color=\"#454722\").encode(\n",
    "    alt.X(\"filing_category\"),\n",
    "    y=\"len\"\n",
    ").properties(\n",
    "    width=alt.Step(40)\n",
    ")\n",
    "\n",
    "tick = alt.Chart(beneficiaries_by_degree).mark_tick(\n",
    "    color='#a91825',\n",
    "    thickness=2,\n",
    "    size=40*0.9,\n",
    ").encode(\n",
    "    x='filing_category',\n",
    "    y='cap'\n",
    ")\n",
    "\n",
    "alt.layer(bar, tick).properties(title=\"Filings by degree (2023)\")"
   ]
  },
  {
   "cell_type": "code",
   "execution_count": 18,
   "metadata": {},
   "outputs": [],
   "source": [
    "# Chance to get picked from lottery\n",
    "lottery_win = filing_chance.with_columns((pl.col(\"len\") / pl.sum(\"len\")).alias(\"pct\")).filter(pl.col(\"status_type\") == \"ELIGIBLE\")\n",
    "lottery_win = lottery_win.with_columns((1 - pl.col(\"pct\")).alias(\"winning_rate\"))\n",
    "\n",
    "chance_1 = alt.Chart(lottery_win).mark_bar(color=\"#454722\").encode(\n",
    "    alt.X(\"ben_multi_reg_ind\", type=\"nominal\"),\n",
    "    alt.Y(\"winning_rate\", type=\"quantitative\").scale(domain=(0, 1))\n",
    ")"
   ]
  },
  {
   "cell_type": "code",
   "execution_count": 19,
   "metadata": {},
   "outputs": [],
   "source": [
    "# Conditional on being picked, chance to get selected\n",
    "approval_rate = filing_chance.filter((pl.col(\"status_type\") != \"ELIGIBLE\") & (~pl.col(\"first_decision\").is_null()))\n",
    "approval_rate = approval_rate.group_by([\"ben_multi_reg_ind\"], ).agg(pl.col(\"len\").sum()).join(approval_rate, how=\"right\", on=\"ben_multi_reg_ind\").with_columns((pl.col(\"len_right\") / pl.col(\"len\")).alias(\"approved_rate\"))\n",
    "approval_rate = approval_rate.filter(pl.col(\"first_decision\") == \"Approved\")\n",
    "\n",
    "chance_2 = alt.Chart(approval_rate).mark_bar(color=\"#454722\").encode(\n",
    "    x=\"ben_multi_reg_ind:N\",\n",
    "    y=\"approved_rate:Q\"\n",
    ")"
   ]
  },
  {
   "cell_type": "code",
   "execution_count": 20,
   "metadata": {},
   "outputs": [],
   "source": [
    "overall_chance = approval_rate.select([\"ben_multi_reg_ind\", \"approved_rate\"]).join(lottery_win.select([\"ben_multi_reg_ind\", \"winning_rate\"]), how=\"left\", on=\"ben_multi_reg_ind\").with_columns((pl.col(\"winning_rate\") * pl.col(\"approved_rate\")).alias(\"h1b_rate\"))\n",
    "\n",
    "overall = alt.Chart(overall_chance).mark_bar(color=\"#454722\").encode(\n",
    "    alt.X(\"ben_multi_reg_ind\", type=\"nominal\"),\n",
    "    alt.Y(\"h1b_rate\", type=\"quantitative\").scale(domain=(0, 1))\n",
    ")"
   ]
  },
  {
   "cell_type": "code",
   "execution_count": null,
   "metadata": {},
   "outputs": [],
   "source": [
    "# Chance analysis chart\n",
    "alt.hconcat(chance_1, chance_2, overall).properties(\n",
    "    title=\"H1B lottery chance analysis (2023)\"\n",
    ")"
   ]
  },
  {
   "cell_type": "code",
   "execution_count": 22,
   "metadata": {},
   "outputs": [],
   "source": [
    "# TODO: Denial rate (or approval?) heatmap for singular filers"
   ]
  },
  {
   "cell_type": "markdown",
   "metadata": {},
   "source": [
    "Now we move on to income analysis for those who are selected in the lottery and approved for H1B visa"
   ]
  },
  {
   "cell_type": "code",
   "execution_count": 23,
   "metadata": {},
   "outputs": [],
   "source": [
    "beneficiaries_income = beneficiaries.filter(~pl.col(\"base_income\").is_null()).with_columns(pl.col(\"dot_code\").cast(pl.Utf8).str.zfill(3))\n",
    "job_code = pl.read_excel(\"../data/i129_job_codes.xlsx\")\n",
    "job_code = job_code.rename({\"Occupation Category\": \"category\", \"Occupation Code\": \"dot_code\", \"Occupation Description\": \"occupation\"})\n",
    "beneficiaries_income = beneficiaries_income.join(job_code, how=\"left\", on=\"dot_code\")\n",
    "beneficiaries_income = beneficiaries_income.with_columns((pl.col(\"fiscal_year\") - pl.col(\"birthyear\")).alias(\"age\"))\n",
    "beneficiaries_income = beneficiaries_income.filter((pl.col(\"base_income\") > 10000) & (pl.col(\"base_income\") < 500000) & (pl.col(\"age\") > 18) & (~pl.col(\"category\").is_null()))"
   ]
  },
  {
   "cell_type": "code",
   "execution_count": null,
   "metadata": {},
   "outputs": [],
   "source": [
    "alt.Chart(beneficiaries_income).mark_point().encode(\n",
    "    x=\"age:Q\",\n",
    "    y=\"base_income:Q\",\n",
    "    color=alt.Color(\"gender\", scale=alt.Scale(\n",
    "                    domain=[\"male\", \"female\"], range=[\"#ba7246\", \"#384d26\"])),\n",
    "    facet=alt.Facet(\"category:N\",\n",
    "                    columns=3,\n",
    "                    spacing=5,\n",
    "                    header=alt.Header(labelFontSize=8))).properties(title=\"Compensation by Age (2023)\", width=100, height=100\n",
    "                    )"
   ]
  }
 ],
 "metadata": {
  "kernelspec": {
   "display_name": "Python 3",
   "language": "python",
   "name": "python3"
  },
  "language_info": {
   "codemirror_mode": {
    "name": "ipython",
    "version": 3
   },
   "file_extension": ".py",
   "mimetype": "text/x-python",
   "name": "python",
   "nbconvert_exporter": "python",
   "pygments_lexer": "ipython3",
   "version": "3.10.12"
  }
 },
 "nbformat": 4,
 "nbformat_minor": 2
}
